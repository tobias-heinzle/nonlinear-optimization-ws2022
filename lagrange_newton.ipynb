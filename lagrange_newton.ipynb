{
 "cells": [
  {
   "cell_type": "code",
   "execution_count": 95,
   "metadata": {},
   "outputs": [],
   "source": [
    "import numpy as np\n",
    "import sympy as sp\n",
    "import matplotlib.pyplot as plt"
   ]
  },
  {
   "cell_type": "code",
   "execution_count": 130,
   "metadata": {},
   "outputs": [],
   "source": [
    "def lagrange_newton(f, df, phi, dphi, x_0, mu_0, epsilon, kmax):\n",
    "    x = [x_0]\n",
    "    mu = [mu_0]\n",
    "    \n",
    "    while np.linalg.norm(phi(x[-1], mu[-1])) > epsilon:\n",
    "        \n",
    "        dphi_mat = dphi(x[-1], mu[-1])\n",
    "        phi_vec = -phi(x[-1], mu[-1])\n",
    "\n",
    "        dres = np.linalg.solve(dphi(x[-1], mu[-1]).transpose(), -phi(x[-1], mu[-1]))\n",
    "\n",
    "        x.append(x[-1] + dres[:len(x_0)])\n",
    "        mu.append(mu[-1] + dres[len(x_0):])\n",
    "\n",
    "    return np.array(x), np.array(mu)"
   ]
  },
  {
   "cell_type": "code",
   "execution_count": 131,
   "metadata": {},
   "outputs": [],
   "source": [
    "def calculate_derivatives(f, h, variables): \n",
    "    mu = []\n",
    "    if len(h) == 1:\n",
    "        mu = [sp.Symbol(\"mu_0\")]\n",
    "    else:\n",
    "        mu = list(sp.symbols(\" \".join(f\"mu{i}\" for i in range(len(h)))))\n",
    "\n",
    "    df = [f.diff(var) for var in variables]\n",
    "    dh = [[h_i.diff(var) for h_i in h] for var in variables]\n",
    "    phi = [df_i + sum(mu[j]*dh_i[j] for j in range(len(h))) for df_i, dh_i in zip(df, dh)] + h\n",
    "    dphi = [[phi_i.diff(var) for phi_i in phi] for var in variables + mu]\n",
    "\n",
    "    h_temp = [sp.lambdify(variables + mu, h_i) for h_i in h]\n",
    "    f_temp = sp.lambdify(variables, f)\n",
    "\n",
    "    dphi = [[sp.lambdify(variables + mu, phi_i.diff(var)) for phi_i in phi] for var in variables + mu]\n",
    "    phi = [sp.lambdify(variables + mu, df_i + sum(mu[j]*dh_i[j] for j in range(len(h)))) for df_i, dh_i in zip(df, dh)] + h_temp\n",
    "    df = [sp.lambdify(variables, f.diff(var)) for var in variables]\n",
    "\n",
    "    dphi_lambda = lambda x, mu: np.array([[dphi_ij(*x, *mu) for dphi_ij in row] for row in dphi])\n",
    "    phi_lambda = lambda x, mu: np.array([phi_i(*x, *mu) for phi_i in phi])\n",
    "    df_lambda = lambda x: np.array([df_i(*x) for df_i in df])\n",
    "    f_lambda = lambda x: f_temp(*x)\n",
    "   \n",
    "    return f_lambda, df_lambda, phi_lambda, dphi_lambda\n"
   ]
  },
  {
   "cell_type": "code",
   "execution_count": 132,
   "metadata": {},
   "outputs": [],
   "source": [
    "x1, x2 = sp.symbols(\"x1 x2\")\n",
    "\n",
    "variables = [x1, x2]\n",
    "\n",
    "f = 2*x1**4 - x2**4 + x1**2 -x1*x2 + 6*x2**2\n",
    "\n",
    "h1 = 2*x1 - x2 + 4\n",
    "\n",
    "x_0 = [0,0]\n",
    "mu_0 = [0]\n",
    "\n",
    "h = [h1]\n",
    "\n",
    "epsilon = 10**(-3)\n",
    "kmax = 200\n"
   ]
  },
  {
   "cell_type": "code",
   "execution_count": 133,
   "metadata": {},
   "outputs": [],
   "source": [
    "f_l, df_l, phi_l, dphi_l = calculate_derivatives(f, h, variables)\n",
    "\n",
    "x, mu = lagrange_newton(f_l, df_l, phi_l, dphi_l, x_0, mu_0, epsilon, kmax)"
   ]
  },
  {
   "cell_type": "code",
   "execution_count": 141,
   "metadata": {},
   "outputs": [
    {
     "name": "stdout",
     "output_type": "stream",
     "text": [
      "length of sequence: 11\n",
      "x0: [0. 0.]\n",
      "   h: 4.00000000000000 norm(phi): 4.0\n",
      "x1: [-2.  0.]\n",
      "   h: 0 norm(phi): 64.0\n",
      "x2: [-1.54929577  0.90140845]\n",
      "   h: -4.44089209850063e-16 norm(phi): 9.48197588119801\n",
      "x3: [-1.31901561  1.36196878]\n",
      "   h: -4.44089209850063e-16 norm(phi): 3.274527587874575\n",
      "x4: [-6.96652545 -9.93305091]\n",
      "   h: 1.77635683940025e-15 norm(phi): 4420.391024319058\n",
      "x5: [-5.57450152 -7.14900304]\n",
      "   h: 0 norm(phi): 890.4873139198312\n",
      "x6: [-4.74824796 -5.49649591]\n",
      "   h: 0 norm(phi): 232.998854477657\n",
      "x7: [-4.3477941 -4.6955882]\n",
      "   h: 0 norm(phi): 43.99808606755286\n",
      "x8: [-4.2354753  -4.47095061]\n",
      "   h: 8.88178419700125e-16 norm(phi): 3.0874307406669033\n",
      "x9: [-4.22659024 -4.45318048]\n",
      "   h: -8.88178419700125e-16 norm(phi): 0.018723669182243996\n",
      "x10: [-4.22653613 -4.45307225]\n",
      "   h: -8.88178419700125e-16 norm(phi): 6.928219753159199e-07\n"
     ]
    }
   ],
   "source": [
    "print(\"length of sequence:\",len(x))\n",
    "i = 0\n",
    "for x_k, mu_k in zip(x,mu):\n",
    "    print( f\"x{i}:\", x_k)\n",
    "    print(\"   h:\",h1.subs({x1: x_k[0], x2 : x_k[1]}).evalf(), \"   norm(phi):\", np.linalg.norm(phi_l(x_k, mu_k)))\n",
    "    i+=1\n"
   ]
  },
  {
   "cell_type": "code",
   "execution_count": 127,
   "metadata": {},
   "outputs": [],
   "source": [
    "x1, x2, x3 = sp.symbols(\"x1 x2 x3\")\n",
    "\n",
    "variables = [x1, x2, x3]\n",
    "\n",
    "g = 1000 - x1**2 -2*x2**2 -x3**2 -x1*x2 - x1*x3\n",
    "\n",
    "h1 = x1**2 + x2**2 + x3**2 - 25\n",
    "h2 = 8*x1 + 14*x2 + 7*x3 -56\n",
    "\n",
    "h = [h1,h2]\n",
    "\n",
    "x_0 = [3,0.2,3]\n",
    "mu_0 = [0,0]\n",
    "\n",
    "epsilon = 10**(-5)\n",
    "kmax = 200"
   ]
  },
  {
   "cell_type": "code",
   "execution_count": 128,
   "metadata": {},
   "outputs": [],
   "source": [
    "g_l, dg_l, phi_l, dphi_l = calculate_derivatives(g, h, variables)\n",
    "\n",
    "x, mu = lagrange_newton(g_l, dg_l, phi_l, dphi_l, x_0, mu_0, epsilon, kmax)"
   ]
  },
  {
   "cell_type": "code",
   "execution_count": 129,
   "metadata": {},
   "outputs": [
    {
     "name": "stdout",
     "output_type": "stream",
     "text": [
      "5\n",
      "[[3.         0.2        3.        ]\n",
      " [3.63321358 0.15912215 3.52951161]\n",
      " [3.53117292 0.21453964 3.53529453]\n",
      " [3.51225635 0.21693024 3.55213227]\n",
      " [3.51212134 0.21698794 3.55217116]]\n",
      "972.32\n",
      "-6.96000000000000\n",
      "960.8900728938873\n",
      "0.683012981555404\n",
      "961.6991430444024\n",
      "0.0135168367635394\n",
      "961.7143804889496\n",
      "0.000647061336941590\n",
      "961.7151721018298\n",
      "2.30675745171993e-8\n"
     ]
    }
   ],
   "source": [
    "print(len(x))\n",
    "print(x)\n",
    "for x_k, mu_k in zip(x,mu):\n",
    "    print(g_l(x_k))\n",
    "    print()\n",
    "    print(h1.subs({x1: x_k[0], x2 : x_k[1], x3 : x_k[2]}))"
   ]
  },
  {
   "cell_type": "code",
   "execution_count": null,
   "metadata": {},
   "outputs": [],
   "source": []
  }
 ],
 "metadata": {
  "kernelspec": {
   "display_name": "pinn",
   "language": "python",
   "name": "pinn"
  },
  "language_info": {
   "codemirror_mode": {
    "name": "ipython",
    "version": 3
   },
   "file_extension": ".py",
   "mimetype": "text/x-python",
   "name": "python",
   "nbconvert_exporter": "python",
   "pygments_lexer": "ipython3",
   "version": "3.10.6"
  },
  "orig_nbformat": 4,
  "vscode": {
   "interpreter": {
    "hash": "916dbcbb3f70747c44a77c7bcd40155683ae19c65e1c03b4aa3499c5328201f1"
   }
  }
 },
 "nbformat": 4,
 "nbformat_minor": 2
}
